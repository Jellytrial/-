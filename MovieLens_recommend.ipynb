{
 "cells": [
  {
   "cell_type": "code",
   "execution_count": 1,
   "metadata": {},
   "outputs": [],
   "source": [
    "import pandas as pd\n",
    "import numpy as np\n",
    "import datetime\n",
    "import math"
   ]
  },
  {
   "cell_type": "markdown",
   "metadata": {},
   "source": [
    "## Load data"
   ]
  },
  {
   "cell_type": "code",
   "execution_count": 2,
   "metadata": {},
   "outputs": [
    {
     "name": "stderr",
     "output_type": "stream",
     "text": [
      "c:\\users\\jelly\\appdata\\local\\programs\\python\\python36\\lib\\site-packages\\ipykernel_launcher.py:2: ParserWarning: Falling back to the 'python' engine because the 'c' engine does not support regex separators (separators > 1 char and different from '\\s+' are interpreted as regex); you can avoid this warning by specifying engine='python'.\n",
      "  \n",
      "c:\\users\\jelly\\appdata\\local\\programs\\python\\python36\\lib\\site-packages\\ipykernel_launcher.py:5: ParserWarning: Falling back to the 'python' engine because the 'c' engine does not support regex separators (separators > 1 char and different from '\\s+' are interpreted as regex); you can avoid this warning by specifying engine='python'.\n",
      "  \"\"\"\n",
      "c:\\users\\jelly\\appdata\\local\\programs\\python\\python36\\lib\\site-packages\\ipykernel_launcher.py:9: ParserWarning: Falling back to the 'python' engine because the 'c' engine does not support regex separators (separators > 1 char and different from '\\s+' are interpreted as regex); you can avoid this warning by specifying engine='python'.\n",
      "  if __name__ == '__main__':\n"
     ]
    }
   ],
   "source": [
    "unames = ['user_id', 'gender', 'age', 'occupation', 'zip']\n",
    "users = pd.read_csv('D:/Tsukuba/My Research/recommend/ml-1m/users.csv', sep='::', header=None, names=unames)\n",
    "\n",
    "rating_names = ['user_id', 'movie_id', 'rating', 'timestamp']\n",
    "ratings = pd.read_csv('D:/Tsukuba/My Research/recommend/ml-1m/ratings.csv', sep='::', header=None, names=rating_names)\n",
    "ratings['timestamp'] = ratings.timestamp.map(datetime.datetime.utcfromtimestamp)\n",
    "\n",
    "movie_names = ['movie_id', 'title', 'genres']\n",
    "movies = pd.read_csv('D:/Tsukuba/My Research/recommend/ml-1m/movies.csv', sep='::', header=None, names=movie_names)"
   ]
  },
  {
   "cell_type": "code",
   "execution_count": 3,
   "metadata": {},
   "outputs": [
    {
     "name": "stdout",
     "output_type": "stream",
     "text": [
      "number of user: 6040 number of movie: 3706\n"
     ]
    }
   ],
   "source": [
    "#user-movie statistics\n",
    "n_user = ratings.user_id.nunique()\n",
    "n_movie = ratings.movie_id.nunique()\n",
    "print('number of user:', n_user, 'number of movie:', n_movie)"
   ]
  },
  {
   "cell_type": "code",
   "execution_count": 4,
   "metadata": {},
   "outputs": [
    {
     "data": {
      "text/html": [
       "<div>\n",
       "<style scoped>\n",
       "    .dataframe tbody tr th:only-of-type {\n",
       "        vertical-align: middle;\n",
       "    }\n",
       "\n",
       "    .dataframe tbody tr th {\n",
       "        vertical-align: top;\n",
       "    }\n",
       "\n",
       "    .dataframe thead th {\n",
       "        text-align: right;\n",
       "    }\n",
       "</style>\n",
       "<table border=\"1\" class=\"dataframe\">\n",
       "  <thead>\n",
       "    <tr style=\"text-align: right;\">\n",
       "      <th>movie_id</th>\n",
       "      <th>1</th>\n",
       "      <th>2</th>\n",
       "      <th>3</th>\n",
       "      <th>4</th>\n",
       "      <th>5</th>\n",
       "      <th>6</th>\n",
       "      <th>7</th>\n",
       "      <th>8</th>\n",
       "      <th>9</th>\n",
       "      <th>10</th>\n",
       "      <th>...</th>\n",
       "      <th>3943</th>\n",
       "      <th>3944</th>\n",
       "      <th>3945</th>\n",
       "      <th>3946</th>\n",
       "      <th>3947</th>\n",
       "      <th>3948</th>\n",
       "      <th>3949</th>\n",
       "      <th>3950</th>\n",
       "      <th>3951</th>\n",
       "      <th>3952</th>\n",
       "    </tr>\n",
       "    <tr>\n",
       "      <th>user_id</th>\n",
       "      <th></th>\n",
       "      <th></th>\n",
       "      <th></th>\n",
       "      <th></th>\n",
       "      <th></th>\n",
       "      <th></th>\n",
       "      <th></th>\n",
       "      <th></th>\n",
       "      <th></th>\n",
       "      <th></th>\n",
       "      <th></th>\n",
       "      <th></th>\n",
       "      <th></th>\n",
       "      <th></th>\n",
       "      <th></th>\n",
       "      <th></th>\n",
       "      <th></th>\n",
       "      <th></th>\n",
       "      <th></th>\n",
       "      <th></th>\n",
       "      <th></th>\n",
       "    </tr>\n",
       "  </thead>\n",
       "  <tbody>\n",
       "    <tr>\n",
       "      <th>1</th>\n",
       "      <td>5.0</td>\n",
       "      <td>0.0</td>\n",
       "      <td>0.0</td>\n",
       "      <td>0.0</td>\n",
       "      <td>0.0</td>\n",
       "      <td>0.0</td>\n",
       "      <td>0.0</td>\n",
       "      <td>0.0</td>\n",
       "      <td>0.0</td>\n",
       "      <td>0.0</td>\n",
       "      <td>...</td>\n",
       "      <td>0.0</td>\n",
       "      <td>0.0</td>\n",
       "      <td>0.0</td>\n",
       "      <td>0.0</td>\n",
       "      <td>0.0</td>\n",
       "      <td>0.0</td>\n",
       "      <td>0.0</td>\n",
       "      <td>0.0</td>\n",
       "      <td>0.0</td>\n",
       "      <td>0.0</td>\n",
       "    </tr>\n",
       "    <tr>\n",
       "      <th>2</th>\n",
       "      <td>0.0</td>\n",
       "      <td>0.0</td>\n",
       "      <td>0.0</td>\n",
       "      <td>0.0</td>\n",
       "      <td>0.0</td>\n",
       "      <td>0.0</td>\n",
       "      <td>0.0</td>\n",
       "      <td>0.0</td>\n",
       "      <td>0.0</td>\n",
       "      <td>0.0</td>\n",
       "      <td>...</td>\n",
       "      <td>0.0</td>\n",
       "      <td>0.0</td>\n",
       "      <td>0.0</td>\n",
       "      <td>0.0</td>\n",
       "      <td>0.0</td>\n",
       "      <td>0.0</td>\n",
       "      <td>0.0</td>\n",
       "      <td>0.0</td>\n",
       "      <td>0.0</td>\n",
       "      <td>0.0</td>\n",
       "    </tr>\n",
       "    <tr>\n",
       "      <th>3</th>\n",
       "      <td>0.0</td>\n",
       "      <td>0.0</td>\n",
       "      <td>0.0</td>\n",
       "      <td>0.0</td>\n",
       "      <td>0.0</td>\n",
       "      <td>0.0</td>\n",
       "      <td>0.0</td>\n",
       "      <td>0.0</td>\n",
       "      <td>0.0</td>\n",
       "      <td>0.0</td>\n",
       "      <td>...</td>\n",
       "      <td>0.0</td>\n",
       "      <td>0.0</td>\n",
       "      <td>0.0</td>\n",
       "      <td>0.0</td>\n",
       "      <td>0.0</td>\n",
       "      <td>0.0</td>\n",
       "      <td>0.0</td>\n",
       "      <td>0.0</td>\n",
       "      <td>0.0</td>\n",
       "      <td>0.0</td>\n",
       "    </tr>\n",
       "    <tr>\n",
       "      <th>4</th>\n",
       "      <td>0.0</td>\n",
       "      <td>0.0</td>\n",
       "      <td>0.0</td>\n",
       "      <td>0.0</td>\n",
       "      <td>0.0</td>\n",
       "      <td>0.0</td>\n",
       "      <td>0.0</td>\n",
       "      <td>0.0</td>\n",
       "      <td>0.0</td>\n",
       "      <td>0.0</td>\n",
       "      <td>...</td>\n",
       "      <td>0.0</td>\n",
       "      <td>0.0</td>\n",
       "      <td>0.0</td>\n",
       "      <td>0.0</td>\n",
       "      <td>0.0</td>\n",
       "      <td>0.0</td>\n",
       "      <td>0.0</td>\n",
       "      <td>0.0</td>\n",
       "      <td>0.0</td>\n",
       "      <td>0.0</td>\n",
       "    </tr>\n",
       "    <tr>\n",
       "      <th>5</th>\n",
       "      <td>0.0</td>\n",
       "      <td>0.0</td>\n",
       "      <td>0.0</td>\n",
       "      <td>0.0</td>\n",
       "      <td>0.0</td>\n",
       "      <td>2.0</td>\n",
       "      <td>0.0</td>\n",
       "      <td>0.0</td>\n",
       "      <td>0.0</td>\n",
       "      <td>0.0</td>\n",
       "      <td>...</td>\n",
       "      <td>0.0</td>\n",
       "      <td>0.0</td>\n",
       "      <td>0.0</td>\n",
       "      <td>0.0</td>\n",
       "      <td>0.0</td>\n",
       "      <td>0.0</td>\n",
       "      <td>0.0</td>\n",
       "      <td>0.0</td>\n",
       "      <td>0.0</td>\n",
       "      <td>0.0</td>\n",
       "    </tr>\n",
       "  </tbody>\n",
       "</table>\n",
       "<p>5 rows × 3706 columns</p>\n",
       "</div>"
      ],
      "text/plain": [
       "movie_id  1     2     3     4     5     6     7     8     9     10    ...   \\\n",
       "user_id                                                               ...    \n",
       "1          5.0   0.0   0.0   0.0   0.0   0.0   0.0   0.0   0.0   0.0  ...    \n",
       "2          0.0   0.0   0.0   0.0   0.0   0.0   0.0   0.0   0.0   0.0  ...    \n",
       "3          0.0   0.0   0.0   0.0   0.0   0.0   0.0   0.0   0.0   0.0  ...    \n",
       "4          0.0   0.0   0.0   0.0   0.0   0.0   0.0   0.0   0.0   0.0  ...    \n",
       "5          0.0   0.0   0.0   0.0   0.0   2.0   0.0   0.0   0.0   0.0  ...    \n",
       "\n",
       "movie_id  3943  3944  3945  3946  3947  3948  3949  3950  3951  3952  \n",
       "user_id                                                               \n",
       "1          0.0   0.0   0.0   0.0   0.0   0.0   0.0   0.0   0.0   0.0  \n",
       "2          0.0   0.0   0.0   0.0   0.0   0.0   0.0   0.0   0.0   0.0  \n",
       "3          0.0   0.0   0.0   0.0   0.0   0.0   0.0   0.0   0.0   0.0  \n",
       "4          0.0   0.0   0.0   0.0   0.0   0.0   0.0   0.0   0.0   0.0  \n",
       "5          0.0   0.0   0.0   0.0   0.0   0.0   0.0   0.0   0.0   0.0  \n",
       "\n",
       "[5 rows x 3706 columns]"
      ]
     },
     "execution_count": 4,
     "metadata": {},
     "output_type": "execute_result"
    }
   ],
   "source": [
    "rating_data = ratings.pivot(index='user_id', columns='movie_id', values='rating').fillna(0)\n",
    "rating_data.head()"
   ]
  },
  {
   "cell_type": "code",
   "execution_count": 5,
   "metadata": {},
   "outputs": [],
   "source": [
    "rating_matrix = rating_data.as_matrix()\n",
    "rating_user_mean = np.mean(rating_matrix, axis=1)\n",
    "rating_dimen_reduc = rating_matrix-rating_user_mean.reshape(-1, 1)"
   ]
  },
  {
   "cell_type": "code",
   "execution_count": 6,
   "metadata": {},
   "outputs": [
    {
     "name": "stdout",
     "output_type": "stream",
     "text": [
      "The sparsity between users and movies: 0.045\n"
     ]
    }
   ],
   "source": [
    "sparsity = round(len(ratings) / float(n_user * n_movie), 3)\n",
    "print('The sparsity between users and movies:', str(sparsity))"
   ]
  },
  {
   "cell_type": "markdown",
   "metadata": {},
   "source": [
    "ユーザー－映画のまばらな行列から、4.5％ユーザーと映画のみインタラクティブを持っています。"
   ]
  },
  {
   "cell_type": "markdown",
   "metadata": {},
   "source": [
    "#### Split train data and test data"
   ]
  },
  {
   "cell_type": "code",
   "execution_count": 7,
   "metadata": {},
   "outputs": [],
   "source": [
    "from sklearn.model_selection import train_test_split\n",
    "train_data, test_data = train_test_split(rating_data, test_size=0.3)"
   ]
  },
  {
   "cell_type": "code",
   "execution_count": 8,
   "metadata": {},
   "outputs": [],
   "source": [
    "train_matrix = train_data.as_matrix()\n",
    "train_user_mean = np.mean(train_matrix, axis=1)\n",
    "train_dimen_reduc = train_matrix - train_user_mean.reshape(-1, 1)\n",
    "\n",
    "test_matrix = test_data.as_matrix()\n",
    "test_user_mean = np.mean(test_matrix, axis=1)\n",
    "test_dimen_reduc = test_matrix - test_user_mean.reshape(-1, 1)"
   ]
  },
  {
   "cell_type": "markdown",
   "metadata": {},
   "source": [
    "## Item-based collaborative filtering recommendation"
   ]
  },
  {
   "cell_type": "code",
   "execution_count": 9,
   "metadata": {},
   "outputs": [],
   "source": [
    "from sklearn.metrics.pairwise import pairwise_distances\n",
    "item_similarity = pairwise_distances(rating_matrix.T, metric='cosine')\n",
    "item_based_pred = rating_matrix.dot(item_similarity) / np.array([np.\n",
    "                                                                 abs(item_similarity).sum(axis=1)])"
   ]
  },
  {
   "cell_type": "code",
   "execution_count": 10,
   "metadata": {},
   "outputs": [
    {
     "name": "stdout",
     "output_type": "stream",
     "text": [
      "RMSE of train data: 3.61821947652495\n"
     ]
    }
   ],
   "source": [
    "from sklearn.metrics import mean_squared_error\n",
    "item_based_train_pred = item_based_pred[train_matrix.nonzero()]\n",
    "item_train_flatten = train_matrix[train_matrix.nonzero()]\n",
    "item_RMSE_train = math.sqrt(mean_squared_error(item_based_train_pred, item_train_flatten))\n",
    "print('RMSE of train data:', item_RMSE_train)"
   ]
  },
  {
   "cell_type": "code",
   "execution_count": 11,
   "metadata": {},
   "outputs": [
    {
     "name": "stdout",
     "output_type": "stream",
     "text": [
      "RMSE of train data: 3.6230731047414024\n"
     ]
    }
   ],
   "source": [
    "item_based_test_pred = item_based_pred[test_matrix.nonzero()]\n",
    "item_test_flatten = test_matrix[test_matrix.nonzero()]\n",
    "item_RMSE_test = math.sqrt(mean_squared_error(item_based_test_pred, item_test_flatten))\n",
    "print('RMSE of train data:', item_RMSE_test)"
   ]
  },
  {
   "cell_type": "markdown",
   "metadata": {},
   "source": [
    "## User-based collaborative filtering recommendation"
   ]
  },
  {
   "cell_type": "code",
   "execution_count": 12,
   "metadata": {},
   "outputs": [],
   "source": [
    "user_similarity = pairwise_distances(rating_matrix, metric='cosine')\n",
    "mean_user_rating = rating_matrix.mean(axis=1)\n",
    "ratings_diff = rating_matrix - mean_user_rating[:, np.newaxis]\n",
    "user_based_pred = rating_user_mean[:, np.newaxis] + user_similarity.dot(ratings_diff) / np.array([np.abs(user_similarity).sum(axis=1)]).T"
   ]
  },
  {
   "cell_type": "code",
   "execution_count": 13,
   "metadata": {},
   "outputs": [
    {
     "name": "stdout",
     "output_type": "stream",
     "text": [
      "RMSE of train data: 3.264710895955358\n"
     ]
    }
   ],
   "source": [
    "user_based_train_pred = user_based_pred[train_matrix.nonzero()]\n",
    "user_train_flatten = train_matrix[train_matrix.nonzero()]\n",
    "user_RMSE_train = math.sqrt(mean_squared_error(user_based_train_pred, user_train_flatten))\n",
    "print('RMSE of train data:', user_RMSE_train)"
   ]
  },
  {
   "cell_type": "code",
   "execution_count": 14,
   "metadata": {},
   "outputs": [
    {
     "name": "stdout",
     "output_type": "stream",
     "text": [
      "RMSE of train data: 3.2787315897767506\n"
     ]
    }
   ],
   "source": [
    "user_based_test_pred = user_based_pred[test_matrix.nonzero()]\n",
    "user_test_flatten = test_matrix[test_matrix.nonzero()]\n",
    "user_RMSE_test = math.sqrt(mean_squared_error(user_based_test_pred, user_test_flatten))\n",
    "print('RMSE of train data:', user_RMSE_test)"
   ]
  },
  {
   "cell_type": "markdown",
   "metadata": {},
   "source": [
    "## SVD collaborative filering recommendation\n",
    "make k=20"
   ]
  },
  {
   "cell_type": "code",
   "execution_count": 15,
   "metadata": {},
   "outputs": [],
   "source": [
    "from scipy.sparse.linalg import svds\n",
    "u, s, vt = svds(rating_matrix, k=20)\n",
    "s_diag = np.diag(s)\n",
    "svd_prediction = np.dot(np.dot(u, s_diag), vt)\n",
    "all_user_prediction = svd_prediction + rating_user_mean.reshape(-1, 1)"
   ]
  },
  {
   "cell_type": "code",
   "execution_count": 16,
   "metadata": {},
   "outputs": [
    {
     "data": {
      "text/html": [
       "<div>\n",
       "<style scoped>\n",
       "    .dataframe tbody tr th:only-of-type {\n",
       "        vertical-align: middle;\n",
       "    }\n",
       "\n",
       "    .dataframe tbody tr th {\n",
       "        vertical-align: top;\n",
       "    }\n",
       "\n",
       "    .dataframe thead th {\n",
       "        text-align: right;\n",
       "    }\n",
       "</style>\n",
       "<table border=\"1\" class=\"dataframe\">\n",
       "  <thead>\n",
       "    <tr style=\"text-align: right;\">\n",
       "      <th>movie_id</th>\n",
       "      <th>1</th>\n",
       "      <th>2</th>\n",
       "      <th>3</th>\n",
       "      <th>4</th>\n",
       "      <th>5</th>\n",
       "      <th>6</th>\n",
       "      <th>7</th>\n",
       "      <th>8</th>\n",
       "      <th>9</th>\n",
       "      <th>10</th>\n",
       "      <th>...</th>\n",
       "      <th>3943</th>\n",
       "      <th>3944</th>\n",
       "      <th>3945</th>\n",
       "      <th>3946</th>\n",
       "      <th>3947</th>\n",
       "      <th>3948</th>\n",
       "      <th>3949</th>\n",
       "      <th>3950</th>\n",
       "      <th>3951</th>\n",
       "      <th>3952</th>\n",
       "    </tr>\n",
       "  </thead>\n",
       "  <tbody>\n",
       "    <tr>\n",
       "      <th>0</th>\n",
       "      <td>3.296091</td>\n",
       "      <td>0.751344</td>\n",
       "      <td>0.055482</td>\n",
       "      <td>0.045996</td>\n",
       "      <td>0.185475</td>\n",
       "      <td>-0.223090</td>\n",
       "      <td>-0.004782</td>\n",
       "      <td>0.227162</td>\n",
       "      <td>-0.040384</td>\n",
       "      <td>0.010916</td>\n",
       "      <td>...</td>\n",
       "      <td>0.046160</td>\n",
       "      <td>0.063587</td>\n",
       "      <td>0.099208</td>\n",
       "      <td>0.053815</td>\n",
       "      <td>-0.013648</td>\n",
       "      <td>0.362026</td>\n",
       "      <td>-0.014752</td>\n",
       "      <td>0.040499</td>\n",
       "      <td>0.056695</td>\n",
       "      <td>0.129149</td>\n",
       "    </tr>\n",
       "    <tr>\n",
       "      <th>1</th>\n",
       "      <td>1.400678</td>\n",
       "      <td>0.554055</td>\n",
       "      <td>0.231637</td>\n",
       "      <td>0.187057</td>\n",
       "      <td>0.227537</td>\n",
       "      <td>0.867737</td>\n",
       "      <td>0.224025</td>\n",
       "      <td>0.174578</td>\n",
       "      <td>0.314799</td>\n",
       "      <td>1.532033</td>\n",
       "      <td>...</td>\n",
       "      <td>0.083954</td>\n",
       "      <td>0.126731</td>\n",
       "      <td>0.125738</td>\n",
       "      <td>0.170212</td>\n",
       "      <td>0.092777</td>\n",
       "      <td>0.286712</td>\n",
       "      <td>-0.047011</td>\n",
       "      <td>0.106894</td>\n",
       "      <td>0.127939</td>\n",
       "      <td>0.162796</td>\n",
       "    </tr>\n",
       "    <tr>\n",
       "      <th>2</th>\n",
       "      <td>1.333436</td>\n",
       "      <td>0.216280</td>\n",
       "      <td>0.156412</td>\n",
       "      <td>-0.015515</td>\n",
       "      <td>0.032155</td>\n",
       "      <td>0.217351</td>\n",
       "      <td>-0.070270</td>\n",
       "      <td>0.066912</td>\n",
       "      <td>0.076080</td>\n",
       "      <td>0.605373</td>\n",
       "      <td>...</td>\n",
       "      <td>0.025174</td>\n",
       "      <td>0.051069</td>\n",
       "      <td>0.065831</td>\n",
       "      <td>0.057821</td>\n",
       "      <td>0.024025</td>\n",
       "      <td>0.284480</td>\n",
       "      <td>-0.073693</td>\n",
       "      <td>0.012310</td>\n",
       "      <td>0.034155</td>\n",
       "      <td>-0.085134</td>\n",
       "    </tr>\n",
       "    <tr>\n",
       "      <th>3</th>\n",
       "      <td>0.281878</td>\n",
       "      <td>-0.088827</td>\n",
       "      <td>0.043531</td>\n",
       "      <td>0.084201</td>\n",
       "      <td>0.048487</td>\n",
       "      <td>0.318924</td>\n",
       "      <td>0.017736</td>\n",
       "      <td>0.023997</td>\n",
       "      <td>0.001312</td>\n",
       "      <td>0.104057</td>\n",
       "      <td>...</td>\n",
       "      <td>0.039579</td>\n",
       "      <td>0.023396</td>\n",
       "      <td>0.020582</td>\n",
       "      <td>-0.000513</td>\n",
       "      <td>-0.002436</td>\n",
       "      <td>0.014650</td>\n",
       "      <td>0.070733</td>\n",
       "      <td>0.004227</td>\n",
       "      <td>0.038865</td>\n",
       "      <td>-0.060646</td>\n",
       "    </tr>\n",
       "    <tr>\n",
       "      <th>4</th>\n",
       "      <td>1.241467</td>\n",
       "      <td>0.283945</td>\n",
       "      <td>-0.042119</td>\n",
       "      <td>0.310740</td>\n",
       "      <td>-0.060107</td>\n",
       "      <td>1.607036</td>\n",
       "      <td>-0.097399</td>\n",
       "      <td>0.165202</td>\n",
       "      <td>0.110061</td>\n",
       "      <td>0.433710</td>\n",
       "      <td>...</td>\n",
       "      <td>0.252153</td>\n",
       "      <td>0.166115</td>\n",
       "      <td>0.154353</td>\n",
       "      <td>0.134328</td>\n",
       "      <td>0.179793</td>\n",
       "      <td>0.156213</td>\n",
       "      <td>0.661748</td>\n",
       "      <td>0.190263</td>\n",
       "      <td>0.242496</td>\n",
       "      <td>0.336900</td>\n",
       "    </tr>\n",
       "  </tbody>\n",
       "</table>\n",
       "<p>5 rows × 3706 columns</p>\n",
       "</div>"
      ],
      "text/plain": [
       "movie_id      1         2         3         4         5         6     \\\n",
       "0         3.296091  0.751344  0.055482  0.045996  0.185475 -0.223090   \n",
       "1         1.400678  0.554055  0.231637  0.187057  0.227537  0.867737   \n",
       "2         1.333436  0.216280  0.156412 -0.015515  0.032155  0.217351   \n",
       "3         0.281878 -0.088827  0.043531  0.084201  0.048487  0.318924   \n",
       "4         1.241467  0.283945 -0.042119  0.310740 -0.060107  1.607036   \n",
       "\n",
       "movie_id      7         8         9         10      ...         3943  \\\n",
       "0        -0.004782  0.227162 -0.040384  0.010916    ...     0.046160   \n",
       "1         0.224025  0.174578  0.314799  1.532033    ...     0.083954   \n",
       "2        -0.070270  0.066912  0.076080  0.605373    ...     0.025174   \n",
       "3         0.017736  0.023997  0.001312  0.104057    ...     0.039579   \n",
       "4        -0.097399  0.165202  0.110061  0.433710    ...     0.252153   \n",
       "\n",
       "movie_id      3944      3945      3946      3947      3948      3949  \\\n",
       "0         0.063587  0.099208  0.053815 -0.013648  0.362026 -0.014752   \n",
       "1         0.126731  0.125738  0.170212  0.092777  0.286712 -0.047011   \n",
       "2         0.051069  0.065831  0.057821  0.024025  0.284480 -0.073693   \n",
       "3         0.023396  0.020582 -0.000513 -0.002436  0.014650  0.070733   \n",
       "4         0.166115  0.154353  0.134328  0.179793  0.156213  0.661748   \n",
       "\n",
       "movie_id      3950      3951      3952  \n",
       "0         0.040499  0.056695  0.129149  \n",
       "1         0.106894  0.127939  0.162796  \n",
       "2         0.012310  0.034155 -0.085134  \n",
       "3         0.004227  0.038865 -0.060646  \n",
       "4         0.190263  0.242496  0.336900  \n",
       "\n",
       "[5 rows x 3706 columns]"
      ]
     },
     "execution_count": 16,
     "metadata": {},
     "output_type": "execute_result"
    }
   ],
   "source": [
    "prediction = pd.DataFrame(all_user_prediction, columns=rating_data.columns)\n",
    "prediction.head()"
   ]
  },
  {
   "cell_type": "markdown",
   "metadata": {},
   "source": [
    "#### Print recommendation of certain user"
   ]
  },
  {
   "cell_type": "code",
   "execution_count": 17,
   "metadata": {},
   "outputs": [],
   "source": [
    "def recommendation(userid, movie, ratings, pred,  n_recommendation):\n",
    "    user_index = userid - 1\n",
    "    sorted_pre = prediction.iloc[user_index].sort_values(ascending=False)\n",
    "    \n",
    "    get_user = ratings[ratings.user_id == (user_index)]\n",
    "    full_info = (get_user.merge(movies, how='left', left_on='movie_id', right_on='movie_id').\n",
    "                 sort_values(['rating'], ascending=False))\n",
    "    \n",
    "    recommendation = (movies[~movies['movie_id'].isin(full_info['movie_id'])].\n",
    "                      merge(pd.DataFrame(sorted_pre).reset_index(), how='left',\n",
    "                           left_on='movie_id', right_on='movie_id').\n",
    "                      rename(columns = {user_index: 'Predictions'}).\n",
    "                      sort_values('Predictions', ascending = False).\n",
    "                      iloc[:n_recommendation, :-1])\n",
    "    \n",
    "    return recommendation"
   ]
  },
  {
   "cell_type": "code",
   "execution_count": 18,
   "metadata": {},
   "outputs": [
    {
     "data": {
      "text/html": [
       "<div>\n",
       "<style scoped>\n",
       "    .dataframe tbody tr th:only-of-type {\n",
       "        vertical-align: middle;\n",
       "    }\n",
       "\n",
       "    .dataframe tbody tr th {\n",
       "        vertical-align: top;\n",
       "    }\n",
       "\n",
       "    .dataframe thead th {\n",
       "        text-align: right;\n",
       "    }\n",
       "</style>\n",
       "<table border=\"1\" class=\"dataframe\">\n",
       "  <thead>\n",
       "    <tr style=\"text-align: right;\">\n",
       "      <th></th>\n",
       "      <th>movie_id</th>\n",
       "      <th>title</th>\n",
       "      <th>genres</th>\n",
       "    </tr>\n",
       "  </thead>\n",
       "  <tbody>\n",
       "    <tr>\n",
       "      <th>1063</th>\n",
       "      <td>1240</td>\n",
       "      <td>Terminator, The (1984)</td>\n",
       "      <td>Action|Sci-Fi|Thriller</td>\n",
       "    </tr>\n",
       "    <tr>\n",
       "      <th>1110</th>\n",
       "      <td>1291</td>\n",
       "      <td>Indiana Jones and the Last Crusade (1989)</td>\n",
       "      <td>Action|Adventure</td>\n",
       "    </tr>\n",
       "    <tr>\n",
       "      <th>0</th>\n",
       "      <td>1</td>\n",
       "      <td>Toy Story (1995)</td>\n",
       "      <td>Animation|Children's|Comedy</td>\n",
       "    </tr>\n",
       "    <tr>\n",
       "      <th>1034</th>\n",
       "      <td>1200</td>\n",
       "      <td>Aliens (1986)</td>\n",
       "      <td>Action|Sci-Fi|Thriller|War</td>\n",
       "    </tr>\n",
       "    <tr>\n",
       "      <th>394</th>\n",
       "      <td>480</td>\n",
       "      <td>Jurassic Park (1993)</td>\n",
       "      <td>Action|Adventure|Sci-Fi</td>\n",
       "    </tr>\n",
       "  </tbody>\n",
       "</table>\n",
       "</div>"
      ],
      "text/plain": [
       "      movie_id                                      title  \\\n",
       "1063      1240                     Terminator, The (1984)   \n",
       "1110      1291  Indiana Jones and the Last Crusade (1989)   \n",
       "0            1                           Toy Story (1995)   \n",
       "1034      1200                              Aliens (1986)   \n",
       "394        480                       Jurassic Park (1993)   \n",
       "\n",
       "                           genres  \n",
       "1063       Action|Sci-Fi|Thriller  \n",
       "1110             Action|Adventure  \n",
       "0     Animation|Children's|Comedy  \n",
       "1034   Action|Sci-Fi|Thriller|War  \n",
       "394       Action|Adventure|Sci-Fi  "
      ]
     },
     "execution_count": 18,
     "metadata": {},
     "output_type": "execute_result"
    }
   ],
   "source": [
    "recommendations = recommendation(1000, movies, ratings, prediction, 5)\n",
    "recommendations.head()"
   ]
  },
  {
   "cell_type": "markdown",
   "metadata": {},
   "source": [
    "#### View prediction matrix value distribution"
   ]
  },
  {
   "cell_type": "code",
   "execution_count": 19,
   "metadata": {},
   "outputs": [
    {
     "data": {
      "text/plain": [
       "0     -2.48\n",
       "1      0.01\n",
       "2      0.03\n",
       "3      0.05\n",
       "4      0.08\n",
       "5      0.12\n",
       "6      0.18\n",
       "7      0.27\n",
       "8      0.44\n",
       "9      0.82\n",
       "10    11.65\n",
       "dtype: object"
      ]
     },
     "execution_count": 19,
     "metadata": {},
     "output_type": "execute_result"
    }
   ],
   "source": [
    "pd.Series(np.percentile(all_user_prediction, np.arange(0, 101, 10))).map('{:.2f}'.format)"
   ]
  },
  {
   "cell_type": "markdown",
   "metadata": {},
   "source": [
    "#### View train data matrix non-zero value distribution"
   ]
  },
  {
   "cell_type": "code",
   "execution_count": 20,
   "metadata": {},
   "outputs": [
    {
     "data": {
      "text/plain": [
       "0     1.00\n",
       "1     2.00\n",
       "2     3.00\n",
       "3     3.00\n",
       "4     3.00\n",
       "5     4.00\n",
       "6     4.00\n",
       "7     4.00\n",
       "8     5.00\n",
       "9     5.00\n",
       "10    5.00\n",
       "dtype: object"
      ]
     },
     "execution_count": 20,
     "metadata": {},
     "output_type": "execute_result"
    }
   ],
   "source": [
    "pd.Series(np.percentile(train_matrix[train_matrix.nonzero()], np.arange(0, 101, 10))).map('{:.2f}'.format)"
   ]
  },
  {
   "cell_type": "code",
   "execution_count": 21,
   "metadata": {},
   "outputs": [],
   "source": [
    "all_user_prediction[all_user_prediction < 0] = 0\n",
    "all_user_prediction[all_user_prediction > 5] = 5"
   ]
  },
  {
   "cell_type": "markdown",
   "metadata": {},
   "source": [
    "#### Predict train data - only take the scored data, and evaluate"
   ]
  },
  {
   "cell_type": "code",
   "execution_count": 22,
   "metadata": {},
   "outputs": [
    {
     "name": "stdout",
     "output_type": "stream",
     "text": [
      "RMSE of train data: 3.2045386013711923\n"
     ]
    }
   ],
   "source": [
    "prediction_train = all_user_prediction[train_matrix.nonzero()]\n",
    "train_matrix_pre = train_matrix[train_matrix.nonzero()]\n",
    "RMSE_train = math.sqrt(mean_squared_error(train_matrix_pre, prediction_train))\n",
    "print('RMSE of train data:', RMSE_train)"
   ]
  },
  {
   "cell_type": "markdown",
   "metadata": {},
   "source": [
    "#### Predict test data - only take the scored data, and evaluate"
   ]
  },
  {
   "cell_type": "code",
   "execution_count": 24,
   "metadata": {},
   "outputs": [
    {
     "name": "stdout",
     "output_type": "stream",
     "text": [
      "RMSE of test data: 3.2338381944601924\n"
     ]
    }
   ],
   "source": [
    "prediction_test = all_user_prediction[test_matrix.nonzero()]\n",
    "test_matrix_pre = test_matrix[test_matrix.nonzero()]\n",
    "RMSE_test = math.sqrt(mean_squared_error(test_matrix_pre, prediction_test))\n",
    "print('RMSE of test data:', RMSE_test)"
   ]
  }
 ],
 "metadata": {
  "kernelspec": {
   "display_name": "Python 3",
   "language": "python",
   "name": "python3"
  },
  "language_info": {
   "codemirror_mode": {
    "name": "ipython",
    "version": 3
   },
   "file_extension": ".py",
   "mimetype": "text/x-python",
   "name": "python",
   "nbconvert_exporter": "python",
   "pygments_lexer": "ipython3",
   "version": "3.6.5"
  }
 },
 "nbformat": 4,
 "nbformat_minor": 2
}
